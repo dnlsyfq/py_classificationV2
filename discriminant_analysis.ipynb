{
 "cells": [
  {
   "cell_type": "markdown",
   "metadata": {},
   "source": [
    "# Linear Discriminant Analysis\n",
    "# Quadratic Discriminant Analysis\n",
    "\n",
    "\n",
    "### Principle Component Analysis\n",
    "\n",
    "find best direction \n",
    "greater the distance , better the projection\n",
    "\n",
    "1st PCA of original data \n",
    "\n",
    "2nd PCA , direction at right angles \n",
    "\n",
    "in general, there are as many principal component as there are dimension in original data \n",
    "\n",
    "### LDA\n",
    "\n",
    "* use same PCA \n",
    "* LDA chooses axis to maximise distance between points of different categories (preserve different categories)\n",
    "* LDA works find when x variables share uniform covariances \n",
    "* LDA fails when covariances of X are a function of value of Y\n",
    "\n",
    "### QDA\n",
    "\n",
    "* variant LDA\n",
    "* suited to cases where x variables corresponding to different y labels have different covariances\n",
    "* QDA separates points \n",
    "\n",
    "<img src=\"./images/qdalda.png\">"
   ]
  },
  {
   "cell_type": "markdown",
   "metadata": {},
   "source": [
    "### Covariance\n",
    "measure relationship between two variables, specifically whether greater values of one variable\n",
    "correspond to greater values in the other .\n",
    "\n",
    "    * +ve covariance\n",
    "    * -ve covariance\n",
    "    \n",
    "    "
   ]
  },
  {
   "cell_type": "markdown",
   "metadata": {},
   "source": [
    "### LDA\n",
    "\n",
    "Find best axes \n",
    "> refer to those axes that best separate the date into different classes \n",
    "\n",
    "### QDA\n",
    "Find axes to best separate \n",
    ">  to best separate the classes such that all instances of a class are in the same quadrant but the decision boundary is quadratic\n"
   ]
  },
  {
   "cell_type": "markdown",
   "metadata": {},
   "source": [
    "One-hot encoding can result in collinearity of features, \n",
    "instead use dummy encoding , \n",
    "drop one of the one-hot encoded columns"
   ]
  },
  {
   "cell_type": "code",
   "execution_count": 1,
   "metadata": {},
   "outputs": [],
   "source": [
    "def summarize_classification(y_test,y_pred):\n",
    "    \n",
    "    acc = accuracy_score(y_test,y_pred,normalize=True)\n",
    "    num_acc =accuracy_score(y_test,y_pred,normalize=False) # accurate count\n",
    "    \n",
    "    prec = precision_score(y_test,y_pred)\n",
    "    recall = recall_score(y_test,y_pred)\n",
    "    \n",
    "    return {\n",
    "        'accuracy':acc,\n",
    "        'precision':prec,\n",
    "        'recall':recall,\n",
    "        'accuracy_count':num_acc\n",
    "    }"
   ]
  },
  {
   "cell_type": "code",
   "execution_count": 2,
   "metadata": {},
   "outputs": [],
   "source": [
    "def build_model(classifier_fn,\n",
    "                name_of_y_col,\n",
    "                name_of_x_cols,\n",
    "                dataset,\n",
    "                test_frac=0.2\n",
    "               ):\n",
    "    X = dataset[name_of_x_cols]\n",
    "    Y = dataset[name_of_y_col]\n",
    "    \n",
    "    x_train, x_test, y_train, y_test = train_test_split(X,Y,test_size=test_frac)\n",
    "    \n",
    "    model = classifier_fn(x_train,y_train)\n",
    "    y_pred = model.predict(x_test)\n",
    "    \n",
    "    y_pred_train = model.predict(x_train)\n",
    "    \n",
    "    \n",
    "    train_summary = summarize_classification(y_train,y_pred_train)\n",
    "    test_summary = summarize_classification(y_test,y_pred)\n",
    "    \n",
    "    pred_results = pd.DataFrame({\n",
    "        'y_test':y_test,\n",
    "        'y_pred':y_pred\n",
    "    })\n",
    "    \n",
    "    model_crosstab = pd.crosstab(pred_results.y_pred,pred_results.y_test)\n",
    "    \n",
    "    return {\n",
    "        'training':train_summary,\n",
    "        'test':test_summary,\n",
    "        'confusion_matrix':model_crosstab\n",
    "    }"
   ]
  },
  {
   "cell_type": "code",
   "execution_count": 3,
   "metadata": {},
   "outputs": [],
   "source": [
    "def compare_results():\n",
    "    for key in result_dict:\n",
    "        print('Classification: ',key)\n",
    "        print()\n",
    "        print('Training data')\n",
    "        for score in result_dict[key]['training']:\n",
    "            print(score,result_dict[key]['training'][score])\n",
    "            \n",
    "        print()\n",
    "        print('Test data')\n",
    "        for score in result_dict[key]['test']:\n",
    "            print(score,result_dict[key]['test'][score])\n",
    "            \n",
    "        print()\n",
    "        \n",
    "        \n",
    "        \n",
    "        "
   ]
  },
  {
   "cell_type": "markdown",
   "metadata": {},
   "source": [
    "\n",
    "Solver \n",
    "* svd , singular value decomposition\n",
    "    * Find axes w/o calculating the covariance matrix of features\n",
    "    * useful when we have many features or many rows in dataset \n"
   ]
  },
  {
   "cell_type": "code",
   "execution_count": 5,
   "metadata": {},
   "outputs": [],
   "source": [
    "result_dict = {}"
   ]
  },
  {
   "cell_type": "code",
   "execution_count": 4,
   "metadata": {},
   "outputs": [],
   "source": [
    "def linear_discriminant_fn(x_train,y_train,solver='svd'):\n",
    "    model = LinearDiscriminantAnalysis(solver=solver)\n",
    "    model.fit(x_train,y_train)\n",
    "    return model"
   ]
  },
  {
   "cell_type": "code",
   "execution_count": 21,
   "metadata": {},
   "outputs": [],
   "source": [
    "# useful when x variables corresponding to different labels have different covariances \n",
    "# i.e covariances are different for x for all values of y \n",
    "\n",
    "def quadratic_discriminant_fn(x_train,y_train):\n",
    "    model = QuadraticDiscriminantAnalysis()\n",
    "    model.fit(x_train,y_train)\n",
    "    return model"
   ]
  },
  {
   "cell_type": "code",
   "execution_count": 12,
   "metadata": {},
   "outputs": [],
   "source": [
    "import pandas as pd \n",
    "from sklearn.model_selection import train_test_split\n",
    "from sklearn.metrics import accuracy_score,precision_score, recall_score\n",
    "\n",
    "from sklearn.linear_model import LogisticRegression\n",
    "from sklearn.discriminant_analysis import LinearDiscriminantAnalysis\n",
    "from sklearn.discriminant_analysis import QuadraticDiscriminantAnalysis\n",
    "from sklearn.linear_model import SGDClassifier\n",
    "from sklearn.svm import LinearSVC\n",
    "from sklearn.neighbors import RadiusNeighborsClassifier\n",
    "from sklearn.naive_bayes import GaussianNB\n",
    "from sklearn.tree import DecisionTreeClassifier"
   ]
  },
  {
   "cell_type": "code",
   "execution_count": 13,
   "metadata": {},
   "outputs": [],
   "source": [
    "titanic_df = pd.read_csv('solutions/02/demos/code/datasets/titanic_processed.csv')"
   ]
  },
  {
   "cell_type": "code",
   "execution_count": 14,
   "metadata": {},
   "outputs": [],
   "source": [
    "FEATURES = titanic_df.columns.tolist()[1:]"
   ]
  },
  {
   "cell_type": "code",
   "execution_count": 18,
   "metadata": {},
   "outputs": [
    {
     "data": {
      "text/html": [
       "<div>\n",
       "<style scoped>\n",
       "    .dataframe tbody tr th:only-of-type {\n",
       "        vertical-align: middle;\n",
       "    }\n",
       "\n",
       "    .dataframe tbody tr th {\n",
       "        vertical-align: top;\n",
       "    }\n",
       "\n",
       "    .dataframe thead th {\n",
       "        text-align: right;\n",
       "    }\n",
       "</style>\n",
       "<table border=\"1\" class=\"dataframe\">\n",
       "  <thead>\n",
       "    <tr style=\"text-align: right;\">\n",
       "      <th></th>\n",
       "      <th>Survived</th>\n",
       "      <th>Pclass</th>\n",
       "      <th>Sex</th>\n",
       "      <th>Age</th>\n",
       "      <th>SibSp</th>\n",
       "      <th>Parch</th>\n",
       "      <th>Fare</th>\n",
       "      <th>Embarked_C</th>\n",
       "      <th>Embarked_Q</th>\n",
       "      <th>Embarked_S</th>\n",
       "    </tr>\n",
       "  </thead>\n",
       "  <tbody>\n",
       "    <tr>\n",
       "      <th>0</th>\n",
       "      <td>0</td>\n",
       "      <td>3</td>\n",
       "      <td>0</td>\n",
       "      <td>14.0</td>\n",
       "      <td>0</td>\n",
       "      <td>0</td>\n",
       "      <td>7.8542</td>\n",
       "      <td>0</td>\n",
       "      <td>0</td>\n",
       "      <td>1</td>\n",
       "    </tr>\n",
       "    <tr>\n",
       "      <th>1</th>\n",
       "      <td>1</td>\n",
       "      <td>1</td>\n",
       "      <td>1</td>\n",
       "      <td>28.0</td>\n",
       "      <td>0</td>\n",
       "      <td>0</td>\n",
       "      <td>26.5500</td>\n",
       "      <td>0</td>\n",
       "      <td>0</td>\n",
       "      <td>1</td>\n",
       "    </tr>\n",
       "    <tr>\n",
       "      <th>2</th>\n",
       "      <td>1</td>\n",
       "      <td>1</td>\n",
       "      <td>0</td>\n",
       "      <td>36.0</td>\n",
       "      <td>1</td>\n",
       "      <td>2</td>\n",
       "      <td>120.0000</td>\n",
       "      <td>0</td>\n",
       "      <td>0</td>\n",
       "      <td>1</td>\n",
       "    </tr>\n",
       "    <tr>\n",
       "      <th>3</th>\n",
       "      <td>0</td>\n",
       "      <td>3</td>\n",
       "      <td>1</td>\n",
       "      <td>17.0</td>\n",
       "      <td>1</td>\n",
       "      <td>0</td>\n",
       "      <td>7.0542</td>\n",
       "      <td>0</td>\n",
       "      <td>0</td>\n",
       "      <td>1</td>\n",
       "    </tr>\n",
       "    <tr>\n",
       "      <th>4</th>\n",
       "      <td>0</td>\n",
       "      <td>3</td>\n",
       "      <td>1</td>\n",
       "      <td>4.0</td>\n",
       "      <td>4</td>\n",
       "      <td>2</td>\n",
       "      <td>31.2750</td>\n",
       "      <td>0</td>\n",
       "      <td>0</td>\n",
       "      <td>1</td>\n",
       "    </tr>\n",
       "  </tbody>\n",
       "</table>\n",
       "</div>"
      ],
      "text/plain": [
       "   Survived  Pclass  Sex   Age  SibSp  Parch      Fare  Embarked_C  \\\n",
       "0         0       3    0  14.0      0      0    7.8542           0   \n",
       "1         1       1    1  28.0      0      0   26.5500           0   \n",
       "2         1       1    0  36.0      1      2  120.0000           0   \n",
       "3         0       3    1  17.0      1      0    7.0542           0   \n",
       "4         0       3    1   4.0      4      2   31.2750           0   \n",
       "\n",
       "   Embarked_Q  Embarked_S  \n",
       "0           0           1  \n",
       "1           0           1  \n",
       "2           0           1  \n",
       "3           0           1  \n",
       "4           0           1  "
      ]
     },
     "execution_count": 18,
     "metadata": {},
     "output_type": "execute_result"
    }
   ],
   "source": [
    "titanic_df.head()"
   ]
  },
  {
   "cell_type": "code",
   "execution_count": 15,
   "metadata": {},
   "outputs": [
    {
     "name": "stderr",
     "output_type": "stream",
     "text": [
      "C:\\Users\\Dan\\AppData\\Local\\Programs\\Python\\Python36\\lib\\site-packages\\sklearn\\discriminant_analysis.py:388: UserWarning: Variables are collinear.\n",
      "  warnings.warn(\"Variables are collinear.\")\n"
     ]
    }
   ],
   "source": [
    "result_dict['survived - linear_discriminant_analysis'] = build_model(\n",
    "    linear_discriminant_fn,\n",
    "    'Survived',\n",
    "    FEATURES,\n",
    "    titanic_df\n",
    ")"
   ]
  },
  {
   "cell_type": "code",
   "execution_count": 16,
   "metadata": {},
   "outputs": [
    {
     "name": "stdout",
     "output_type": "stream",
     "text": [
      "Classification:  survived - linear_discriminant_analysis\n",
      "\n",
      "Training data\n",
      "accuracy 0.7838312829525483\n",
      "precision 0.75\n",
      "recall 0.7012987012987013\n",
      "accuracy_count 446\n",
      "\n",
      "Test data\n",
      "accuracy 0.8461538461538461\n",
      "precision 0.8301886792452831\n",
      "recall 0.7719298245614035\n",
      "accuracy_count 121\n",
      "\n"
     ]
    }
   ],
   "source": [
    "compare_results()"
   ]
  },
  {
   "cell_type": "code",
   "execution_count": 19,
   "metadata": {},
   "outputs": [],
   "source": [
    "result_dict['survived - linear_discriminant_analysis'] = build_model(\n",
    "    linear_discriminant_fn,\n",
    "    'Survived',\n",
    "    FEATURES[0:-1],\n",
    "    titanic_df\n",
    ")"
   ]
  },
  {
   "cell_type": "code",
   "execution_count": 20,
   "metadata": {},
   "outputs": [
    {
     "name": "stdout",
     "output_type": "stream",
     "text": [
      "Classification:  survived - linear_discriminant_analysis\n",
      "\n",
      "Training data\n",
      "accuracy 0.8101933216168717\n",
      "precision 0.7699530516431925\n",
      "recall 0.7354260089686099\n",
      "accuracy_count 461\n",
      "\n",
      "Test data\n",
      "accuracy 0.7202797202797203\n",
      "precision 0.711864406779661\n",
      "recall 0.6461538461538462\n",
      "accuracy_count 103\n",
      "\n"
     ]
    }
   ],
   "source": [
    "compare_results()"
   ]
  },
  {
   "cell_type": "code",
   "execution_count": 22,
   "metadata": {},
   "outputs": [],
   "source": [
    "result_dict['survived - quadratic_discriminant_analysis'] = build_model(\n",
    "    quadratic_discriminant_fn,\n",
    "    'Survived',\n",
    "    FEATURES[0:-1],\n",
    "    titanic_df\n",
    ")"
   ]
  },
  {
   "cell_type": "code",
   "execution_count": 23,
   "metadata": {},
   "outputs": [
    {
     "name": "stdout",
     "output_type": "stream",
     "text": [
      "Classification:  survived - linear_discriminant_analysis\n",
      "\n",
      "Training data\n",
      "accuracy 0.8101933216168717\n",
      "precision 0.7699530516431925\n",
      "recall 0.7354260089686099\n",
      "accuracy_count 461\n",
      "\n",
      "Test data\n",
      "accuracy 0.7202797202797203\n",
      "precision 0.711864406779661\n",
      "recall 0.6461538461538462\n",
      "accuracy_count 103\n",
      "\n",
      "Classification:  survived - quadratic_discriminant_analysis\n",
      "\n",
      "Training data\n",
      "accuracy 0.7943760984182777\n",
      "precision 0.7581395348837209\n",
      "recall 0.7149122807017544\n",
      "accuracy_count 452\n",
      "\n",
      "Test data\n",
      "accuracy 0.7692307692307693\n",
      "precision 0.7454545454545455\n",
      "recall 0.6833333333333333\n",
      "accuracy_count 110\n",
      "\n"
     ]
    }
   ],
   "source": [
    "compare_results()"
   ]
  },
  {
   "cell_type": "code",
   "execution_count": null,
   "metadata": {},
   "outputs": [],
   "source": []
  }
 ],
 "metadata": {
  "kernelspec": {
   "display_name": "Python 3.6.4 64-bit",
   "language": "python",
   "name": "python36464bit49be060b4cd54268b608c867974433c7"
  },
  "language_info": {
   "codemirror_mode": {
    "name": "ipython",
    "version": 3
   },
   "file_extension": ".py",
   "mimetype": "text/x-python",
   "name": "python",
   "nbconvert_exporter": "python",
   "pygments_lexer": "ipython3",
   "version": "3.6.4"
  },
  "latex_envs": {
   "LaTeX_envs_menu_present": true,
   "autoclose": false,
   "autocomplete": true,
   "bibliofile": "biblio.bib",
   "cite_by": "apalike",
   "current_citInitial": 1,
   "eqLabelWithNumbers": true,
   "eqNumInitial": 1,
   "hotkeys": {
    "equation": "Ctrl-E",
    "itemize": "Ctrl-I"
   },
   "labels_anchors": false,
   "latex_user_defs": false,
   "report_style_numbering": false,
   "user_envs_cfg": false
  }
 },
 "nbformat": 4,
 "nbformat_minor": 2
}
